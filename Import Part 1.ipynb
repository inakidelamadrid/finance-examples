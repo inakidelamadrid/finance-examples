{
 "cells": [
  {
   "cell_type": "code",
   "execution_count": 1,
   "metadata": {},
   "outputs": [],
   "source": [
    "import pandas as pd\n",
    "import numpy as np"
   ]
  },
  {
   "cell_type": "code",
   "execution_count": 3,
   "metadata": {},
   "outputs": [
    {
     "data": {
      "text/plain": [
       "0    0.326563\n",
       "1    0.202549\n",
       "2    0.999847\n",
       "3    0.058882\n",
       "4    0.893585\n",
       "Name: Column 01, dtype: float64"
      ]
     },
     "execution_count": 3,
     "metadata": {},
     "output_type": "execute_result"
    }
   ],
   "source": [
    "ser = pd.Series(np.random.random(5), name=\"Column 01\")\n",
    "ser"
   ]
  },
  {
   "cell_type": "code",
   "execution_count": 6,
   "metadata": {},
   "outputs": [],
   "source": [
    "from pandas_datareader import data as wb\n",
    "from datetime import datetime"
   ]
  },
  {
   "cell_type": "code",
   "execution_count": 10,
   "metadata": {},
   "outputs": [
    {
     "data": {
      "text/html": [
       "<div>\n",
       "<style scoped>\n",
       "    .dataframe tbody tr th:only-of-type {\n",
       "        vertical-align: middle;\n",
       "    }\n",
       "\n",
       "    .dataframe tbody tr th {\n",
       "        vertical-align: top;\n",
       "    }\n",
       "\n",
       "    .dataframe thead th {\n",
       "        text-align: right;\n",
       "    }\n",
       "</style>\n",
       "<table border=\"1\" class=\"dataframe\">\n",
       "  <thead>\n",
       "    <tr style=\"text-align: right;\">\n",
       "      <th></th>\n",
       "      <th>open</th>\n",
       "      <th>high</th>\n",
       "      <th>low</th>\n",
       "      <th>close</th>\n",
       "      <th>volume</th>\n",
       "    </tr>\n",
       "    <tr>\n",
       "      <th>date</th>\n",
       "      <th></th>\n",
       "      <th></th>\n",
       "      <th></th>\n",
       "      <th></th>\n",
       "      <th></th>\n",
       "    </tr>\n",
       "  </thead>\n",
       "  <tbody>\n",
       "    <tr>\n",
       "      <th>2015-01-02</th>\n",
       "      <td>79.7718</td>\n",
       "      <td>79.9123</td>\n",
       "      <td>78.9639</td>\n",
       "      <td>79.4205</td>\n",
       "      <td>7255494</td>\n",
       "    </tr>\n",
       "    <tr>\n",
       "      <th>2015-01-05</th>\n",
       "      <td>79.2361</td>\n",
       "      <td>79.9123</td>\n",
       "      <td>78.9024</td>\n",
       "      <td>79.0429</td>\n",
       "      <td>8626143</td>\n",
       "    </tr>\n",
       "    <tr>\n",
       "      <th>2015-01-06</th>\n",
       "      <td>79.3063</td>\n",
       "      <td>79.5259</td>\n",
       "      <td>78.3843</td>\n",
       "      <td>78.6828</td>\n",
       "      <td>7791195</td>\n",
       "    </tr>\n",
       "    <tr>\n",
       "      <th>2015-01-07</th>\n",
       "      <td>78.9814</td>\n",
       "      <td>79.3590</td>\n",
       "      <td>78.6500</td>\n",
       "      <td>79.0956</td>\n",
       "      <td>5986899</td>\n",
       "    </tr>\n",
       "    <tr>\n",
       "      <th>2015-01-08</th>\n",
       "      <td>79.4556</td>\n",
       "      <td>80.1099</td>\n",
       "      <td>79.1483</td>\n",
       "      <td>80.0001</td>\n",
       "      <td>6831617</td>\n",
       "    </tr>\n",
       "  </tbody>\n",
       "</table>\n",
       "</div>"
      ],
      "text/plain": [
       "               open     high      low    close   volume\n",
       "date                                                   \n",
       "2015-01-02  79.7718  79.9123  78.9639  79.4205  7255494\n",
       "2015-01-05  79.2361  79.9123  78.9024  79.0429  8626143\n",
       "2015-01-06  79.3063  79.5259  78.3843  78.6828  7791195\n",
       "2015-01-07  78.9814  79.3590  78.6500  79.0956  5986899\n",
       "2015-01-08  79.4556  80.1099  79.1483  80.0001  6831617"
      ]
     },
     "execution_count": 10,
     "metadata": {},
     "output_type": "execute_result"
    }
   ],
   "source": [
    "start = datetime(2015, 1, 1)\n",
    "PG = wb.DataReader(\"PG\", data_source=\"iex\", start=start)\n",
    "PG.head()"
   ]
  },
  {
   "cell_type": "code",
   "execution_count": 11,
   "metadata": {},
   "outputs": [
    {
     "name": "stdout",
     "output_type": "stream",
     "text": [
      "<class 'pandas.core.frame.DataFrame'>\n",
      "Index: 1010 entries, 2015-01-02 to 2019-01-07\n",
      "Data columns (total 5 columns):\n",
      "open      1010 non-null float64\n",
      "high      1010 non-null float64\n",
      "low       1010 non-null float64\n",
      "close     1010 non-null float64\n",
      "volume    1010 non-null int64\n",
      "dtypes: float64(4), int64(1)\n",
      "memory usage: 47.3+ KB\n"
     ]
    }
   ],
   "source": [
    "PG.info()"
   ]
  },
  {
   "cell_type": "code",
   "execution_count": null,
   "metadata": {},
   "outputs": [],
   "source": []
  }
 ],
 "metadata": {
  "kernelspec": {
   "display_name": "Python 3",
   "language": "python",
   "name": "python3"
  },
  "language_info": {
   "codemirror_mode": {
    "name": "ipython",
    "version": 3
   },
   "file_extension": ".py",
   "mimetype": "text/x-python",
   "name": "python",
   "nbconvert_exporter": "python",
   "pygments_lexer": "ipython3",
   "version": "3.6.0"
  }
 },
 "nbformat": 4,
 "nbformat_minor": 2
}
